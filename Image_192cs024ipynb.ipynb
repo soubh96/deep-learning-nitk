{
  "nbformat": 4,
  "nbformat_minor": 0,
  "metadata": {
    "colab": {
      "name": "Image_192cs024ipynb",
      "provenance": [],
      "collapsed_sections": [],
      "toc_visible": true
    },
    "kernelspec": {
      "name": "python3",
      "display_name": "Python 3"
    }
  },
  "cells": [
    {
      "cell_type": "code",
      "metadata": {
        "id": "zP9PAJHcuuaD",
        "colab_type": "code",
        "outputId": "dd06a251-440c-40b9-dfb9-c606159df848",
        "colab": {
          "base_uri": "https://localhost:8080/",
          "height": 35
        }
      },
      "source": [
        "from google.colab import drive\n",
        "drive.mount('/content/drive')\n",
        "\n"
      ],
      "execution_count": 0,
      "outputs": [
        {
          "output_type": "stream",
          "text": [
            "Drive already mounted at /content/drive; to attempt to forcibly remount, call drive.mount(\"/content/drive\", force_remount=True).\n"
          ],
          "name": "stdout"
        }
      ]
    },
    {
      "cell_type": "markdown",
      "metadata": {
        "id": "nmzn84GNzxAG",
        "colab_type": "text"
      },
      "source": [
        "#Load the Data"
      ]
    },
    {
      "cell_type": "code",
      "metadata": {
        "colab_type": "code",
        "outputId": "e9e3c8aa-e00d-478f-940b-af250b184803",
        "id": "dIr052coHui7",
        "colab": {
          "base_uri": "https://localhost:8080/",
          "height": 87
        }
      },
      "source": [
        "\n",
        "import matplotlib.pyplot as plt\n",
        "import numpy as np\n",
        "import matplotlib.image as mpimg\n",
        "from sklearn.model_selection import train_test_split\n",
        "from keras.utils import np_utils\n",
        "\n",
        "\n",
        "path=\"/content/drive/My Drive/deep/Copy of ytrain.npy\"\n",
        "path1=\"/content/drive/My Drive/deep/Copy of xtrain.npy\"\n",
        "y_train=np.load(path)\n",
        "x_train=np.load(path1)\n",
        "print(x_train.shape)\n",
        "print(len(x_train))\n",
        "print(y_train.shape)\n",
        "print(len(y_train))\n",
        "\n",
        "\n",
        "\n"
      ],
      "execution_count": 0,
      "outputs": [
        {
          "output_type": "stream",
          "text": [
            "(298, 300, 300, 3)\n",
            "298\n",
            "(298,)\n",
            "298\n"
          ],
          "name": "stdout"
        }
      ]
    },
    {
      "cell_type": "code",
      "metadata": {
        "id": "4KB-r2WnOpI-",
        "colab_type": "code",
        "outputId": "cefe31a0-8a4b-4b49-bfd6-e66478d8007c",
        "colab": {
          "base_uri": "https://localhost:8080/",
          "height": 35
        }
      },
      "source": [
        "x_train, x_test, y_train, y_test = train_test_split(x_train, y_train, test_size=0.3)\n",
        "\n",
        "x_train = x_train.astype('float32')\n",
        "x_test = x_test.astype('float32')\n",
        "\n",
        "x_train = x_train / 255.0\n",
        "x_test = x_test / 255.0\n",
        "\n",
        "y_train = np_utils.to_categorical(y_train)\n",
        "y_test = np_utils.to_categorical(y_test)\n",
        "\n",
        "print(len(x_train),len(x_test))\n"
      ],
      "execution_count": 0,
      "outputs": [
        {
          "output_type": "stream",
          "text": [
            "208 90\n"
          ],
          "name": "stdout"
        }
      ]
    },
    {
      "cell_type": "markdown",
      "metadata": {
        "id": "ff62zqXi1DTB",
        "colab_type": "text"
      },
      "source": [
        "# New Section"
      ]
    },
    {
      "cell_type": "code",
      "metadata": {
        "id": "YD4gKPBf1PYy",
        "colab_type": "code",
        "outputId": "ac3d267b-e27f-4fd8-e567-c0d53fd63fd1",
        "colab": {
          "base_uri": "https://localhost:8080/",
          "height": 35
        }
      },
      "source": [
        "from google.colab import drive\n",
        "drive.mount('/content/drive')"
      ],
      "execution_count": 0,
      "outputs": [
        {
          "output_type": "stream",
          "text": [
            "Drive already mounted at /content/drive; to attempt to forcibly remount, call drive.mount(\"/content/drive\", force_remount=True).\n"
          ],
          "name": "stdout"
        }
      ]
    },
    {
      "cell_type": "code",
      "metadata": {
        "id": "CrWP65pjkJaY",
        "colab_type": "code",
        "outputId": "a3cc2b10-7d3f-448d-ee0b-68f15303dc2a",
        "colab": {
          "base_uri": "https://localhost:8080/",
          "height": 367
        }
      },
      "source": [
        "import tensorflow as tf \n",
        "from tensorflow.keras import regularizers\n",
        "\n",
        "\n",
        "\n",
        "model= tf.keras.models.Sequential([\n",
        "    # Note the input shape is the desired size of the image 300x300 with 3 bytes color\n",
        "    # This is the first convolution\n",
        "    tf.keras.layers.Conv2D(16, (3,3), activation='relu', input_shape=x_train.shape[1:],padding='same'),\n",
        "    tf.keras.layers.MaxPooling2D(2, 2),\n",
        "   # tf.keras.layers.BatchNormalization(),\n",
        "    # The second convolution\n",
        "     #tf.keras.layers.Conv2D(32, (3,3), activation='relu'),\n",
        "     #tf.keras.layers.MaxPooling2D(2,2),\n",
        "    # tf.keras.layers.BatchNormalization(),\n",
        "    # # The third convolution\n",
        "    # tf.keras.layers.Conv2D(64, (3,3), activation='relu'),\n",
        "    # tf.keras.layers.MaxPooling2D(2,2),\n",
        "    # # The fourth convolution\n",
        "    # tf.keras.layers.Conv2D(64, (3,3), activation='relu'),\n",
        "    # tf.keras.layers.MaxPooling2D(2,2),\n",
        "    # # The fifth convolution\n",
        "    # tf.keras.layers.Conv2D(64, (3,3), activation='relu'),\n",
        "    # tf.keras.layers.MaxPooling2D(2,2),\n",
        "    # # Flatten the results to feed into a DNN\n",
        "    tf.keras.layers.Flatten(),\n",
        "    # 128 neuron hidden layer\n",
        "    tf.keras.layers.Dense(128, activation='relu',kernel_regularizer=regularizers.l2(.001)),\n",
        "    tf.keras.layers.Dropout(0.7),\n",
        "    # Only 1 output neuron. It will contain a value from 0-1 where 0 for 1 class ('defective') and 1 for the other ('non-defective')\n",
        "    tf.keras.layers.Dense(2, activation='sigmoid')\n",
        "])\n",
        "    \n",
        "    \n",
        "  \n",
        "model.summary()"
      ],
      "execution_count": 0,
      "outputs": [
        {
          "output_type": "stream",
          "text": [
            "Model: \"sequential_1\"\n",
            "_________________________________________________________________\n",
            "Layer (type)                 Output Shape              Param #   \n",
            "=================================================================\n",
            "conv2d_1 (Conv2D)            (None, 300, 300, 16)      448       \n",
            "_________________________________________________________________\n",
            "max_pooling2d_1 (MaxPooling2 (None, 150, 150, 16)      0         \n",
            "_________________________________________________________________\n",
            "flatten_1 (Flatten)          (None, 360000)            0         \n",
            "_________________________________________________________________\n",
            "dense_2 (Dense)              (None, 128)               46080128  \n",
            "_________________________________________________________________\n",
            "dropout_1 (Dropout)          (None, 128)               0         \n",
            "_________________________________________________________________\n",
            "dense_3 (Dense)              (None, 2)                 258       \n",
            "=================================================================\n",
            "Total params: 46,080,834\n",
            "Trainable params: 46,080,834\n",
            "Non-trainable params: 0\n",
            "_________________________________________________________________\n"
          ],
          "name": "stdout"
        }
      ]
    },
    {
      "cell_type": "markdown",
      "metadata": {
        "id": "cHMq27v0zCL0",
        "colab_type": "text"
      },
      "source": [
        "#Compile the model"
      ]
    },
    {
      "cell_type": "code",
      "metadata": {
        "id": "WM2jyp6MmORr",
        "colab_type": "code",
        "colab": {}
      },
      "source": [
        "model.compile(optimizer='adam',\n",
        "              loss='binary_crossentropy',\n",
        "              metrics=['accuracy'])\n",
        "\n",
        "\n"
      ],
      "execution_count": 0,
      "outputs": []
    },
    {
      "cell_type": "markdown",
      "metadata": {
        "id": "CkCEQtrdzNLA",
        "colab_type": "text"
      },
      "source": [
        "#Test the model"
      ]
    },
    {
      "cell_type": "code",
      "metadata": {
        "id": "YP7AJ_0mmjaa",
        "colab_type": "code",
        "outputId": "75b91311-b02a-4d03-e654-dad474296ad7",
        "colab": {
          "base_uri": "https://localhost:8080/",
          "height": 1000
        }
      },
      "source": [
        "history=model.fit(x_train,y_train,validation_data=(x_test,y_test),epochs=30)\n",
        "\n"
      ],
      "execution_count": 0,
      "outputs": [
        {
          "output_type": "stream",
          "text": [
            "Epoch 1/30\n",
            "7/7 [==============================] - 10s 1s/step - loss: 9.4015 - accuracy: 0.5144 - val_loss: 1.3777 - val_accuracy: 0.6778\n",
            "Epoch 2/30\n",
            "7/7 [==============================] - 10s 1s/step - loss: 2.7116 - accuracy: 0.6346 - val_loss: 1.0659 - val_accuracy: 0.6889\n",
            "Epoch 3/30\n",
            "7/7 [==============================] - 10s 1s/step - loss: 1.2372 - accuracy: 0.6538 - val_loss: 1.1733 - val_accuracy: 0.7556\n",
            "Epoch 4/30\n",
            "7/7 [==============================] - 10s 1s/step - loss: 1.1548 - accuracy: 0.7067 - val_loss: 1.1848 - val_accuracy: 0.7556\n",
            "Epoch 5/30\n",
            "7/7 [==============================] - 10s 1s/step - loss: 1.1144 - accuracy: 0.7067 - val_loss: 1.1458 - val_accuracy: 0.8333\n",
            "Epoch 6/30\n",
            "7/7 [==============================] - 10s 1s/step - loss: 1.0965 - accuracy: 0.7356 - val_loss: 1.0807 - val_accuracy: 0.8333\n",
            "Epoch 7/30\n",
            "7/7 [==============================] - 10s 1s/step - loss: 1.0285 - accuracy: 0.7596 - val_loss: 1.0349 - val_accuracy: 0.8000\n",
            "Epoch 8/30\n",
            "7/7 [==============================] - 10s 1s/step - loss: 0.9926 - accuracy: 0.7260 - val_loss: 0.9370 - val_accuracy: 0.8667\n",
            "Epoch 9/30\n",
            "7/7 [==============================] - 10s 1s/step - loss: 0.9063 - accuracy: 0.7981 - val_loss: 0.8930 - val_accuracy: 0.8778\n",
            "Epoch 10/30\n",
            "7/7 [==============================] - 10s 1s/step - loss: 0.8860 - accuracy: 0.7933 - val_loss: 0.8519 - val_accuracy: 0.8667\n",
            "Epoch 11/30\n",
            "7/7 [==============================] - 10s 1s/step - loss: 0.7815 - accuracy: 0.8462 - val_loss: 0.8210 - val_accuracy: 0.8444\n",
            "Epoch 12/30\n",
            "7/7 [==============================] - 10s 1s/step - loss: 0.7768 - accuracy: 0.8317 - val_loss: 0.7737 - val_accuracy: 0.8667\n",
            "Epoch 13/30\n",
            "7/7 [==============================] - 10s 1s/step - loss: 0.7081 - accuracy: 0.8558 - val_loss: 0.7835 - val_accuracy: 0.8222\n",
            "Epoch 14/30\n",
            "7/7 [==============================] - 10s 1s/step - loss: 0.6828 - accuracy: 0.8558 - val_loss: 0.7385 - val_accuracy: 0.8222\n",
            "Epoch 15/30\n",
            "7/7 [==============================] - 10s 1s/step - loss: 0.6584 - accuracy: 0.8558 - val_loss: 0.6913 - val_accuracy: 0.8667\n",
            "Epoch 16/30\n",
            "7/7 [==============================] - 10s 1s/step - loss: 0.6387 - accuracy: 0.8510 - val_loss: 0.7065 - val_accuracy: 0.8333\n",
            "Epoch 17/30\n",
            "7/7 [==============================] - 10s 1s/step - loss: 0.5836 - accuracy: 0.8510 - val_loss: 0.6808 - val_accuracy: 0.8444\n",
            "Epoch 18/30\n",
            "7/7 [==============================] - 10s 1s/step - loss: 0.5950 - accuracy: 0.8317 - val_loss: 0.6926 - val_accuracy: 0.8222\n",
            "Epoch 19/30\n",
            "7/7 [==============================] - 10s 1s/step - loss: 0.5644 - accuracy: 0.8606 - val_loss: 0.6464 - val_accuracy: 0.8889\n",
            "Epoch 20/30\n",
            "7/7 [==============================] - 10s 1s/step - loss: 0.5413 - accuracy: 0.8606 - val_loss: 0.6479 - val_accuracy: 0.8667\n",
            "Epoch 21/30\n",
            "7/7 [==============================] - 10s 1s/step - loss: 0.5114 - accuracy: 0.8654 - val_loss: 0.6510 - val_accuracy: 0.8333\n",
            "Epoch 22/30\n",
            "7/7 [==============================] - 13s 2s/step - loss: 0.5220 - accuracy: 0.8942 - val_loss: 0.6549 - val_accuracy: 0.8222\n",
            "Epoch 23/30\n",
            "7/7 [==============================] - 10s 1s/step - loss: 0.5526 - accuracy: 0.8654 - val_loss: 0.5955 - val_accuracy: 0.8556\n",
            "Epoch 24/30\n",
            "7/7 [==============================] - 10s 1s/step - loss: 0.4615 - accuracy: 0.9038 - val_loss: 0.6013 - val_accuracy: 0.8667\n",
            "Epoch 25/30\n",
            "7/7 [==============================] - 10s 1s/step - loss: 0.4584 - accuracy: 0.9087 - val_loss: 0.5734 - val_accuracy: 0.8778\n",
            "Epoch 26/30\n",
            "7/7 [==============================] - 10s 1s/step - loss: 0.5157 - accuracy: 0.8510 - val_loss: 0.6733 - val_accuracy: 0.7778\n",
            "Epoch 27/30\n",
            "7/7 [==============================] - 10s 1s/step - loss: 0.4800 - accuracy: 0.8894 - val_loss: 0.5841 - val_accuracy: 0.9000\n",
            "Epoch 28/30\n",
            "7/7 [==============================] - 10s 1s/step - loss: 0.5087 - accuracy: 0.8798 - val_loss: 0.5856 - val_accuracy: 0.9111\n",
            "Epoch 29/30\n",
            "7/7 [==============================] - 10s 1s/step - loss: 0.4830 - accuracy: 0.9183 - val_loss: 0.5801 - val_accuracy: 0.8889\n",
            "Epoch 30/30\n",
            "7/7 [==============================] - 10s 1s/step - loss: 0.5005 - accuracy: 0.8798 - val_loss: 0.6298 - val_accuracy: 0.8667\n"
          ],
          "name": "stdout"
        }
      ]
    },
    {
      "cell_type": "code",
      "metadata": {
        "id": "xMMWcU8Z9Uw6",
        "colab_type": "code",
        "outputId": "219cca79-73bf-470e-9a02-cabde518d0fb",
        "colab": {
          "base_uri": "https://localhost:8080/",
          "height": 52
        }
      },
      "source": [
        "test_acc=model.evaluate(x_test,y_test)\n",
        "print('test accuracy:',test_acc[1]*100)"
      ],
      "execution_count": 0,
      "outputs": [
        {
          "output_type": "stream",
          "text": [
            "3/3 [==============================] - 1s 324ms/step - loss: 0.6298 - accuracy: 0.8667\n",
            "test accuracy: 86.66666746139526\n"
          ],
          "name": "stdout"
        }
      ]
    },
    {
      "cell_type": "code",
      "metadata": {
        "id": "s4yOq-ZX6Tui",
        "colab_type": "code",
        "outputId": "4afe0b8e-4610-4f50-f12e-edecde386e9b",
        "colab": {
          "base_uri": "https://localhost:8080/",
          "height": 295
        }
      },
      "source": [
        "plt.plot(history.history['loss'])\n",
        "plt.plot(history.history['val_loss'])\n",
        "plt.title('model loss')\n",
        "plt.ylabel('loss')\n",
        "plt.xlabel('epoch')\n",
        "plt.legend(['train', 'val'], loc='upper left')\n",
        "plt.show()"
      ],
      "execution_count": 0,
      "outputs": [
        {
          "output_type": "display_data",
          "data": {
            "image/png": "[encoded data removed]",
            "text/plain": [
              "<Figure size 432x288 with 1 Axes>"
            ]
          },
          "metadata": {
            "tags": [],
            "needs_background": "light"
          }
        }
      ]
    },
    {
      "cell_type": "code",
      "metadata": {
        "id": "4y-mLzGB9er8",
        "colab_type": "code",
        "colab": {}
      },
      "source": [
        "y_pred=model.predict(x_test)\n",
        "y_pred=np.argmax(y_pred,axis=1)\n",
        "y_test=np.argmax(y_test,axis=1)"
      ],
      "execution_count": 0,
      "outputs": []
    },
    {
      "cell_type": "code",
      "metadata": {
        "id": "QTBf2yuC9sso",
        "colab_type": "code",
        "outputId": "7ab65262-afbe-4764-f79c-db1468a41e39",
        "colab": {
          "base_uri": "https://localhost:8080/",
          "height": 52
        }
      },
      "source": [
        "from sklearn.metrics import confusion_matrix\n",
        "from sklearn.metrics import accuracy_score\n",
        "from sklearn.metrics import classification_report\n",
        "\n",
        "\n",
        "cm=confusion_matrix(y_test,y_pred)\n",
        "TP = cm[0][0]\n",
        "FP = cm[0][1]\n",
        "FN = cm[1][0]\n",
        "TN = cm[1][1]\n",
        "x=(TP/(TP+FN))\n",
        "y=(TP/(TP+FP))\n",
        "print('precision',y)\n",
        "print('Recall',x)\n"
      ],
      "execution_count": 0,
      "outputs": [
        {
          "output_type": "stream",
          "text": [
            "precision 0.8958333333333334\n",
            "Recall 0.86\n"
          ],
          "name": "stdout"
        }
      ]
    },
    {
      "cell_type": "code",
      "metadata": {
        "id": "th3Yqq4T977G",
        "colab_type": "code",
        "outputId": "cb182e2a-1a39-4521-bb14-ea90dcd7b93a",
        "colab": {
          "base_uri": "https://localhost:8080/",
          "height": 175
        }
      },
      "source": [
        "print(classification_report(y_test,y_pred))"
      ],
      "execution_count": 0,
      "outputs": [
        {
          "output_type": "stream",
          "text": [
            "              precision    recall  f1-score   support\n",
            "\n",
            "           0       0.86      0.90      0.88        48\n",
            "           1       0.88      0.83      0.85        42\n",
            "\n",
            "    accuracy                           0.87        90\n",
            "   macro avg       0.87      0.86      0.87        90\n",
            "weighted avg       0.87      0.87      0.87        90\n",
            "\n"
          ],
          "name": "stdout"
        }
      ]
    },
    {
      "cell_type": "markdown",
      "metadata": {
        "id": "rZyIMhc-zYIu",
        "colab_type": "text"
      },
      "source": [
        "#CALCULATE DEFECTIVE AND NON DEFECTIVE ACCURACY"
      ]
    },
    {
      "cell_type": "code",
      "metadata": {
        "id": "E7I_FTbT9_zM",
        "colab_type": "code",
        "outputId": "ae9072ad-5807-4f0e-8b17-d0aa3c37df7f",
        "colab": {
          "base_uri": "https://localhost:8080/",
          "height": 52
        }
      },
      "source": [
        "cmat=confusion_matrix(y_test,y_pred)\n",
        "x=cmat.diagonal()/cmat.sum(axis=1)\n",
        "print('DEFECTIVE ACCURACY->',x[0]*100)\n",
        "print('NON-DEFECTIVE ACCURACY->',x[1]*100)"
      ],
      "execution_count": 0,
      "outputs": [
        {
          "output_type": "stream",
          "text": [
            "DEFECTIVE ACCURACY-> 89.58333333333334\n",
            "NON-DEFECTIVE ACCURACY-> 83.33333333333334\n"
          ],
          "name": "stdout"
        }
      ]
    }
  ]
}